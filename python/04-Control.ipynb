{
 "cells": [
  {
   "cell_type": "code",
   "execution_count": 1,
   "metadata": {},
   "outputs": [
    {
     "name": "stdout",
     "output_type": "stream",
     "text": [
      "please input a integer3\n",
      "ゼロより大きい\n"
     ]
    }
   ],
   "source": [
    "# if..elis..else\n",
    "x = int(input(\"please input a integer\"))\n",
    "if x == 0:\n",
    "    print(\"ゼロ\")\n",
    "elif x > 0:\n",
    "    print(\"ゼロより大きい\")\n",
    "else:\n",
    "    print(\"ゼロより小さい\")"
   ]
  },
  {
   "cell_type": "code",
   "execution_count": 2,
   "metadata": {},
   "outputs": [
    {
     "name": "stdout",
     "output_type": "stream",
     "text": [
      "cat\n",
      "window\n",
      "man\n"
     ]
    }
   ],
   "source": [
    "# for\n",
    "words = [\"cat\", \"window\", \"man\"]\n",
    "for i in words:\n",
    "    print(i)"
   ]
  },
  {
   "cell_type": "code",
   "execution_count": 3,
   "metadata": {},
   "outputs": [
    {
     "data": {
      "text/plain": [
       "range(1, 10)"
      ]
     },
     "execution_count": 3,
     "metadata": {},
     "output_type": "execute_result"
    }
   ],
   "source": [
    "range(1, 10)  #output not array"
   ]
  },
  {
   "cell_type": "code",
   "execution_count": 4,
   "metadata": {},
   "outputs": [
    {
     "name": "stdout",
     "output_type": "stream",
     "text": [
      "range(0, 10)\n"
     ]
    }
   ],
   "source": [
    "print(range(10))  #print not array"
   ]
  },
  {
   "cell_type": "code",
   "execution_count": 5,
   "metadata": {},
   "outputs": [
    {
     "data": {
      "text/plain": [
       "[1, 2, 3, 4, 5, 6, 7, 8, 9]"
      ]
     },
     "execution_count": 5,
     "metadata": {},
     "output_type": "execute_result"
    }
   ],
   "source": [
    "# range\n",
    "list(range(1,10))  #1<=i<10"
   ]
  },
  {
   "cell_type": "code",
   "execution_count": 6,
   "metadata": {},
   "outputs": [
    {
     "data": {
      "text/plain": [
       "[1, 4, 7]"
      ]
     },
     "execution_count": 6,
     "metadata": {},
     "output_type": "execute_result"
    }
   ],
   "source": [
    "list(range(1,10,3)) #step=3"
   ]
  },
  {
   "cell_type": "code",
   "execution_count": 7,
   "metadata": {},
   "outputs": [
    {
     "name": "stdout",
     "output_type": "stream",
     "text": [
      "0 tom\n",
      "1 jack\n",
      "2 spoy\n",
      "3 brad\n"
     ]
    }
   ],
   "source": [
    "a = [\"tom\", \"jack\", \"spoy\", \"brad\"]\n",
    "for i in range(len(a)):\n",
    "    print(i, a[i])"
   ]
  },
  {
   "cell_type": "code",
   "execution_count": 8,
   "metadata": {},
   "outputs": [
    {
     "name": "stdout",
     "output_type": "stream",
     "text": [
      "2 is a primary number\n",
      "3 is a primary number\n",
      "4 equals 2 * 2\n",
      "5 is a primary number\n",
      "6 equals 2 * 3\n",
      "7 is a primary number\n",
      "8 equals 2 * 4\n",
      "9 equals 3 * 3\n"
     ]
    }
   ],
   "source": [
    "# break ループを抜ける\n",
    "for i in range(2, 10):\n",
    "    for n in range(2, i):\n",
    "        if i % n == 0:\n",
    "            print(i,\"equals\",n,\"*\",i//n)\n",
    "            break\n",
    "    else:   #breakが起きない時、呼び出す\n",
    "        print(i, \"is a primary number\")"
   ]
  },
  {
   "cell_type": "code",
   "execution_count": 9,
   "metadata": {},
   "outputs": [
    {
     "name": "stdout",
     "output_type": "stream",
     "text": [
      "2 is a even number\n",
      "3 is a odd number\n",
      "4 is a even number\n",
      "5 is a odd number\n",
      "6 is a even number\n",
      "7 is a odd number\n",
      "8 is a even number\n",
      "9 is a odd number\n"
     ]
    }
   ],
   "source": [
    "# continue ループの残りを飛ばし\n",
    "for i in range(2, 10):\n",
    "    if i % 2 == 0:\n",
    "        print(i, \"is a even number\")\n",
    "        continue\n",
    "        \n",
    "    print(i, \"is a odd number\")"
   ]
  },
  {
   "cell_type": "code",
   "execution_count": 10,
   "metadata": {},
   "outputs": [],
   "source": [
    "def ask_ok(prompt, retries=4, complaint=\"Please input Yes Or No!\"):\n",
    "    while True:\n",
    "        x = input(prompt)\n",
    "        if x in (\"y\", \"Y\", \"yes\", \"Yes\", \"YES\"):  #in:指定の値を含むかどうかを判定\n",
    "            return True\n",
    "        if x in (\"n\", \"N\", \"no\", \"No\", \"NO\"):\n",
    "            return False\n",
    "        retries = retries - 1\n",
    "        if retries < 0:\n",
    "            print(\"not a good user\")\n",
    "            break\n",
    "        print(complaint)"
   ]
  },
  {
   "cell_type": "code",
   "execution_count": 11,
   "metadata": {},
   "outputs": [
    {
     "name": "stdout",
     "output_type": "stream",
     "text": [
      "Do you really want to quit?v\n",
      "Please input Yes Or No!\n",
      "Do you really want to quit?3\n",
      "Please input Yes Or No!\n",
      "Do you really want to quit?n\n"
     ]
    },
    {
     "data": {
      "text/plain": [
       "False"
      ]
     },
     "execution_count": 11,
     "metadata": {},
     "output_type": "execute_result"
    }
   ],
   "source": [
    "ask_ok(\"Do you really want to quit?\")"
   ]
  },
  {
   "cell_type": "code",
   "execution_count": 12,
   "metadata": {},
   "outputs": [
    {
     "name": "stdout",
     "output_type": "stream",
     "text": [
      "Do you really want to quit?3\n",
      "Please input Yes Or No!\n",
      "Do you really want to quit?v\n",
      "not a good user\n"
     ]
    }
   ],
   "source": [
    "ask_ok(\"Do you really want to quit?\", retries=1)  #デフォルト値を変更"
   ]
  },
  {
   "cell_type": "code",
   "execution_count": 13,
   "metadata": {},
   "outputs": [],
   "source": [
    "def f(a, L=[]):\n",
    "    L.append(a)\n",
    "    return L"
   ]
  },
  {
   "cell_type": "code",
   "execution_count": 14,
   "metadata": {},
   "outputs": [
    {
     "data": {
      "text/plain": [
       "[1]"
      ]
     },
     "execution_count": 14,
     "metadata": {},
     "output_type": "execute_result"
    }
   ],
   "source": [
    "f(1)"
   ]
  },
  {
   "cell_type": "code",
   "execution_count": 15,
   "metadata": {},
   "outputs": [
    {
     "data": {
      "text/plain": [
       "[1, 2]"
      ]
     },
     "execution_count": 15,
     "metadata": {},
     "output_type": "execute_result"
    }
   ],
   "source": [
    "f(2)  #引数を累積"
   ]
  },
  {
   "cell_type": "code",
   "execution_count": 16,
   "metadata": {},
   "outputs": [],
   "source": [
    "# キーワード引数\n",
    "def parrot(voltage, state='a stiff', action='voom', type='Norwe Blue'):\n",
    "    print(\"--This parrot wouldn't\", action, end=' ')\n",
    "    print(\"if you put\", voltage, \"volts through it.\")\n",
    "    print(\"--Lovely plumage, the\", type)\n",
    "    print(\"--It's\", state, \"!\")"
   ]
  },
  {
   "cell_type": "code",
   "execution_count": 17,
   "metadata": {},
   "outputs": [
    {
     "name": "stdout",
     "output_type": "stream",
     "text": [
      "--This parrot wouldn't voom if you put 100 volts through it.\n",
      "--Lovely plumage, the Norwe Blue\n",
      "--It's a stiff !\n"
     ]
    }
   ],
   "source": [
    "parrot(100)"
   ]
  },
  {
   "cell_type": "code",
   "execution_count": 18,
   "metadata": {},
   "outputs": [
    {
     "name": "stdout",
     "output_type": "stream",
     "text": [
      "--This parrot wouldn't eat if you put 100 volts through it.\n",
      "--Lovely plumage, the Norwe Blue\n",
      "--It's a stiff !\n"
     ]
    }
   ],
   "source": [
    "parrot(100, action=\"eat\")"
   ]
  },
  {
   "cell_type": "code",
   "execution_count": 19,
   "metadata": {},
   "outputs": [],
   "source": [
    "# エラー：キーワード引数の後、非キーワード引数\n",
    "#parrot(action=\"eat\", 100)"
   ]
  },
  {
   "cell_type": "code",
   "execution_count": 20,
   "metadata": {},
   "outputs": [],
   "source": [
    "# エラー：同じ引数に、値を２度与え\n",
    "#parrot(100, voltage=200)"
   ]
  },
  {
   "cell_type": "code",
   "execution_count": 21,
   "metadata": {},
   "outputs": [],
   "source": [
    "# *argument(リスト),**keywords(ディクショナリー)\n",
    "def cheeseshop(kind, *argument, **keywords):\n",
    "    print(\"Do you have \", kind)\n",
    "    print(\"No, we don't have \", kind)\n",
    "    for arg in argument:\n",
    "        print(arg)\n",
    "    print(\"-\" * 40)\n",
    "    keys = sorted(keywords.keys())\n",
    "    for key in keys:\n",
    "        print(key,\":\",keywords[key])"
   ]
  },
  {
   "cell_type": "code",
   "execution_count": 22,
   "metadata": {},
   "outputs": [
    {
     "name": "stdout",
     "output_type": "stream",
     "text": [
      "Do you have  hambagu\n",
      "No, we don't have  hambagu\n",
      "www\n",
      "ert\n",
      "----------------------------------------\n",
      "client : 456\n",
      "shop : 123\n",
      "ske : ee\n"
     ]
    }
   ],
   "source": [
    "cheeseshop(\"hambagu\",\"www\",\"ert\",shop=\"123\",client=\"456\",ske=\"ee\")"
   ]
  },
  {
   "cell_type": "code",
   "execution_count": 23,
   "metadata": {},
   "outputs": [],
   "source": [
    "def contact(separate, *args):\n",
    "    return separate.join(args)"
   ]
  },
  {
   "cell_type": "code",
   "execution_count": 24,
   "metadata": {},
   "outputs": [
    {
     "data": {
      "text/plain": [
       "'aa/bb/cc'"
      ]
     },
     "execution_count": 24,
     "metadata": {},
     "output_type": "execute_result"
    }
   ],
   "source": [
    "contact(\"/\",\"aa\",\"bb\",\"cc\")"
   ]
  },
  {
   "cell_type": "code",
   "execution_count": 25,
   "metadata": {},
   "outputs": [
    {
     "data": {
      "text/plain": [
       "[3, 4, 5]"
      ]
     },
     "execution_count": 25,
     "metadata": {},
     "output_type": "execute_result"
    }
   ],
   "source": [
    "# *:リストやタプルからアンパックした引数\n",
    "args = [3,6]\n",
    "list(range(*args))"
   ]
  },
  {
   "cell_type": "code",
   "execution_count": 26,
   "metadata": {},
   "outputs": [],
   "source": [
    "dd = {\"voltage\":\"aa\",\"state\":\"bb\",\"action\":\"cc\",\"type\":\"dd\"}"
   ]
  },
  {
   "cell_type": "code",
   "execution_count": 27,
   "metadata": {},
   "outputs": [
    {
     "name": "stdout",
     "output_type": "stream",
     "text": [
      "--This parrot wouldn't cc if you put aa volts through it.\n",
      "--Lovely plumage, the dd\n",
      "--It's bb !\n"
     ]
    }
   ],
   "source": [
    "# **:ディクショナリーをキーワード引数にした\n",
    "parrot(**dd)"
   ]
  },
  {
   "cell_type": "code",
   "execution_count": 28,
   "metadata": {},
   "outputs": [],
   "source": [
    "#lambda:無名関数\n",
    "f = lambda a,b:a+b"
   ]
  },
  {
   "cell_type": "code",
   "execution_count": 29,
   "metadata": {},
   "outputs": [
    {
     "data": {
      "text/plain": [
       "3"
      ]
     },
     "execution_count": 29,
     "metadata": {},
     "output_type": "execute_result"
    }
   ],
   "source": [
    "f(1,2)"
   ]
  },
  {
   "cell_type": "code",
   "execution_count": 30,
   "metadata": {},
   "outputs": [],
   "source": [
    "paris = [(0,\"jack\"),(3,\"tom\"),(2,\"brad\")]"
   ]
  },
  {
   "cell_type": "code",
   "execution_count": 31,
   "metadata": {},
   "outputs": [],
   "source": [
    "paris.sort(key=lambda tt: tt[1])"
   ]
  },
  {
   "cell_type": "code",
   "execution_count": 32,
   "metadata": {},
   "outputs": [
    {
     "data": {
      "text/plain": [
       "[(2, 'brad'), (0, 'jack'), (3, 'tom')]"
      ]
     },
     "execution_count": 32,
     "metadata": {},
     "output_type": "execute_result"
    }
   ],
   "source": [
    "paris"
   ]
  },
  {
   "cell_type": "code",
   "execution_count": 33,
   "metadata": {},
   "outputs": [],
   "source": [
    "def my_function():\n",
    "    \"\"\"\n",
    "      Do nothing  \n",
    "      No,really\n",
    "    \"\"\"\n",
    "    pass"
   ]
  },
  {
   "cell_type": "code",
   "execution_count": 34,
   "metadata": {},
   "outputs": [
    {
     "name": "stdout",
     "output_type": "stream",
     "text": [
      "\n",
      "      Do nothing  \n",
      "      No,really\n",
      "    \n"
     ]
    }
   ],
   "source": [
    "print(my_function.__doc__)  #__doc__:ドキュメンテーション文字列"
   ]
  },
  {
   "cell_type": "code",
   "execution_count": 35,
   "metadata": {},
   "outputs": [],
   "source": [
    "def my_fun(x:int,y:float)->float:\n",
    "    print(my_fun.__annotations__)\n",
    "    return x + y"
   ]
  },
  {
   "cell_type": "code",
   "execution_count": 36,
   "metadata": {},
   "outputs": [
    {
     "name": "stdout",
     "output_type": "stream",
     "text": [
      "{'x': <class 'int'>, 'y': <class 'float'>, 'return': <class 'float'>}\n"
     ]
    }
   ],
   "source": [
    "print(my_fun.__annotations__)  #__annotations__: 関数アノテーション"
   ]
  },
  {
   "cell_type": "code",
   "execution_count": null,
   "metadata": {},
   "outputs": [],
   "source": []
  }
 ],
 "metadata": {
  "kernelspec": {
   "display_name": "Python 3",
   "language": "python",
   "name": "python3"
  },
  "language_info": {
   "codemirror_mode": {
    "name": "ipython",
    "version": 3
   },
   "file_extension": ".py",
   "mimetype": "text/x-python",
   "name": "python",
   "nbconvert_exporter": "python",
   "pygments_lexer": "ipython3",
   "version": "3.7.6"
  }
 },
 "nbformat": 4,
 "nbformat_minor": 4
}
